{
 "cells": [
  {
   "cell_type": "code",
   "execution_count": 1,
   "metadata": {},
   "outputs": [
    {
     "ename": "FileNotFoundError",
     "evalue": "[Errno 2] No such file or directory: 'F:/75_feature/f_90_30'",
     "output_type": "error",
     "traceback": [
      "\u001b[1;31m---------------------------------------------------------------------------\u001b[0m",
      "\u001b[1;31mFileNotFoundError\u001b[0m                         Traceback (most recent call last)",
      "\u001b[1;32m<ipython-input-1-a7c1687e6601>\u001b[0m in \u001b[0;36m<module>\u001b[1;34m()\u001b[0m\n\u001b[0;32m     17\u001b[0m     \u001b[0mfile_path0\u001b[0m \u001b[1;33m=\u001b[0m \u001b[0mos\u001b[0m\u001b[1;33m.\u001b[0m\u001b[0mpath\u001b[0m\u001b[1;33m.\u001b[0m\u001b[0mjoin\u001b[0m\u001b[1;33m(\u001b[0m\u001b[0mfolder_path0\u001b[0m\u001b[1;33m,\u001b[0m \u001b[0mfile_name_npy\u001b[0m\u001b[1;33m)\u001b[0m\u001b[1;33m\u001b[0m\u001b[0m\n\u001b[0;32m     18\u001b[0m     \u001b[1;31m# 加载原始数组数据\u001b[0m\u001b[1;33m\u001b[0m\u001b[1;33m\u001b[0m\u001b[0m\n\u001b[1;32m---> 19\u001b[1;33m     \u001b[0mdata\u001b[0m \u001b[1;33m=\u001b[0m \u001b[0mnp\u001b[0m\u001b[1;33m.\u001b[0m\u001b[0mload\u001b[0m\u001b[1;33m(\u001b[0m\u001b[0mfile_path0\u001b[0m\u001b[1;33m)\u001b[0m\u001b[1;33m\u001b[0m\u001b[0m\n\u001b[0m\u001b[0;32m     20\u001b[0m     \u001b[0mfeature_30_181_217_181\u001b[0m \u001b[1;33m=\u001b[0m \u001b[0mupsample\u001b[0m\u001b[1;33m(\u001b[0m\u001b[0mdata\u001b[0m\u001b[1;33m)\u001b[0m\u001b[1;33m\u001b[0m\u001b[0m\n\u001b[0;32m     21\u001b[0m     \u001b[0mall_results_90_30\u001b[0m \u001b[1;33m=\u001b[0m \u001b[0mnp\u001b[0m\u001b[1;33m.\u001b[0m\u001b[0mempty\u001b[0m\u001b[1;33m(\u001b[0m\u001b[1;33m(\u001b[0m\u001b[1;36m0\u001b[0m\u001b[1;33m,\u001b[0m \u001b[1;36m30\u001b[0m\u001b[1;33m)\u001b[0m\u001b[1;33m)\u001b[0m\u001b[1;33m\u001b[0m\u001b[0m\n",
      "\u001b[1;32mC:\\ProgramData\\Anaconda3\\lib\\site-packages\\numpy\\lib\\npyio.py\u001b[0m in \u001b[0;36mload\u001b[1;34m(file, mmap_mode, allow_pickle, fix_imports, encoding)\u001b[0m\n\u001b[0;32m    382\u001b[0m     \u001b[0mown_fid\u001b[0m \u001b[1;33m=\u001b[0m \u001b[1;32mFalse\u001b[0m\u001b[1;33m\u001b[0m\u001b[0m\n\u001b[0;32m    383\u001b[0m     \u001b[1;32mif\u001b[0m \u001b[0misinstance\u001b[0m\u001b[1;33m(\u001b[0m\u001b[0mfile\u001b[0m\u001b[1;33m,\u001b[0m \u001b[0mbasestring\u001b[0m\u001b[1;33m)\u001b[0m\u001b[1;33m:\u001b[0m\u001b[1;33m\u001b[0m\u001b[0m\n\u001b[1;32m--> 384\u001b[1;33m         \u001b[0mfid\u001b[0m \u001b[1;33m=\u001b[0m \u001b[0mopen\u001b[0m\u001b[1;33m(\u001b[0m\u001b[0mfile\u001b[0m\u001b[1;33m,\u001b[0m \u001b[1;34m\"rb\"\u001b[0m\u001b[1;33m)\u001b[0m\u001b[1;33m\u001b[0m\u001b[0m\n\u001b[0m\u001b[0;32m    385\u001b[0m         \u001b[0mown_fid\u001b[0m \u001b[1;33m=\u001b[0m \u001b[1;32mTrue\u001b[0m\u001b[1;33m\u001b[0m\u001b[0m\n\u001b[0;32m    386\u001b[0m     \u001b[1;32melif\u001b[0m \u001b[0mis_pathlib_path\u001b[0m\u001b[1;33m(\u001b[0m\u001b[0mfile\u001b[0m\u001b[1;33m)\u001b[0m\u001b[1;33m:\u001b[0m\u001b[1;33m\u001b[0m\u001b[0m\n",
      "\u001b[1;31mFileNotFoundError\u001b[0m: [Errno 2] No such file or directory: 'F:/75_feature/f_90_30'"
     ]
    }
   ],
   "source": [
    "import os\n",
    "import numpy as np\n",
    "import pandas as pd\n",
    "# 遍历文件夹中的所有CSV文件\n",
    "def upsample(heat):\n",
    "    new_heat = np.zeros((30, 46*4, 55*4, 46*4))\n",
    "    for start_idx1 in range(4):\n",
    "        for start_idx2 in range(4):\n",
    "            for start_idx3 in range(4):\n",
    "                new_heat[:, start_idx1::4, start_idx2::4, start_idx3::4] = heat\n",
    "    return new_heat[:, :181, :217, :181]\n",
    "# 设置需要处理的文件夹路径\n",
    "folder_path = \"G:/FCN-CNN/zuobiao\"\n",
    "folder_path0=\"F:/75_feature/\" \n",
    "for file_name_npy in os.listdir(folder_path0):\n",
    "    # 构造完整的文件路径\n",
    "    file_path0 = os.path.join(folder_path0, file_name_npy)\n",
    "    # 加载原始数组数据\n",
    "    data = np.load(file_path0)\n",
    "    feature_30_181_217_181 = upsample(data)\n",
    "    all_results_90_30 = np.empty((0, 30)) \n",
    "\n",
    "    for file_name_csv in os.listdir(folder_path):\n",
    "        # 构造完整的文件路径\n",
    "        file_path = os.path.join(folder_path, file_name_csv)\n",
    "        # 读取CSV文件\n",
    "        df = pd.read_csv(file_path)\n",
    "        result_10000_30 = np.empty((0, 30))\n",
    "        # 获取列名\n",
    "        column_names = df.columns.tolist()\n",
    "        # 遍历CSV文件中的每一行\n",
    "        for index, row in df.iterrows():\n",
    "            # 获取体素坐标值\n",
    "            x = row[column_names[0]]\n",
    "            y = row[column_names[1]]\n",
    "            z = row[column_names[2]]\n",
    "            row_data = {'x': x, 'y': y, 'z': z}\n",
    "            # 根据体素坐标值获取对应的数值\n",
    "#             first_dim_data = data[:, :, :, x, y, z]\n",
    "            values = feature_30_181_217_181[:,x, y, z]\n",
    "#             for i, value in enumerate(values):\n",
    "#                 row_data[f'value_{i}'] = value\n",
    "#             result_df = result_df.append(row_data, ignore_index=True)\n",
    "            result_10000_30 = np.vstack((result_10000_30, values))\n",
    "        result_1_30=np.mean(result_10000_30,axis=0)\n",
    "        # 将结果数组添加到存储所有循环结果的数组中\n",
    "        all_results_90_30=np.vstack((all_results_90_30, result_1_30)) \n",
    "    np.save(f'F:/75_feature/f_90_30'+file_name_npy, all_results_90_30)    "
   ]
  },
  {
   "cell_type": "code",
   "execution_count": 3,
   "metadata": {},
   "outputs": [],
   "source": [
    "\n",
    "import os\n",
    "import shutil\n",
    "import pandas as pd\n",
    "\n",
    "# 读取CSV文件\n",
    "csv_file_path = 'H:/ADNI/ADNI_NoBack_MCI_NC_194/NC_50.csv'\n",
    "df = pd.read_csv(csv_file_path)\n",
    "# 获取CSV表格中的文件名称列\n",
    "file_names_column ='filename'\n",
    "\n",
    "# 文件夹路径和新文件夹路径\n",
    "folder_path = 'H:/ADNI/fMRI_0_96/NC_fc_70/'\n",
    "new_folder_path = 'H:/ADNI/ADNI_NoBack_MCI_NC_194/194_fc/'\n",
    "\n",
    "# 遍历文件夹中的.npy文件，将匹配的文件复制到新文件夹并改名\n",
    "for file_name in os.listdir(folder_path):\n",
    "    if file_name.endswith('.mat'):\n",
    "        file_name_prefix = file_name[:10]  # 获取文件名前十个字符\n",
    "        matching_row = df[df[file_names_column].str.startswith(file_name_prefix)]\n",
    "        if not matching_row.empty:\n",
    "            new_file_name = file_name[:10] + \".mat\"  # 新的文件名\n",
    "            file_path = os.path.join(folder_path, file_name)\n",
    "            new_file_path = os.path.join(new_folder_path, new_file_name)\n",
    "            shutil.copy(file_path, new_file_path)\n"
   ]
  },
  {
   "cell_type": "code",
   "execution_count": null,
   "metadata": {},
   "outputs": [],
   "source": []
  }
 ],
 "metadata": {
  "kernelspec": {
   "display_name": "Python 3",
   "language": "python",
   "name": "python3"
  },
  "language_info": {
   "codemirror_mode": {
    "name": "ipython",
    "version": 3
   },
   "file_extension": ".py",
   "mimetype": "text/x-python",
   "name": "python",
   "nbconvert_exporter": "python",
   "pygments_lexer": "ipython3",
   "version": "3.7.0"
  }
 },
 "nbformat": 4,
 "nbformat_minor": 2
}
